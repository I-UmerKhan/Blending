{
 "cells": [
  {
   "cell_type": "code",
   "execution_count": 1,
   "id": "9eb32954",
   "metadata": {},
   "outputs": [
    {
     "name": "stdout",
     "output_type": "stream",
     "text": [
      "Model accuracy: 0.8900\n"
     ]
    }
   ],
   "source": [
    "import numpy as np\n",
    "from sklearn.datasets import make_classification\n",
    "from sklearn.model_selection import train_test_split\n",
    "from sklearn.ensemble import RandomForestClassifier, GradientBoostingClassifier\n",
    "from sklearn.linear_model import LogisticRegression\n",
    "from sklearn.svm import SVC\n",
    "from sklearn.metrics import accuracy_score\n",
    "\n",
    "# Generate a random dataset\n",
    "X, y = make_classification(n_samples=1000, n_features=20, random_state=42)\n",
    "\n",
    "# Split the dataset into training and testing sets\n",
    "X_train, X_test, y_train, y_test = train_test_split(X, y, test_size=0.2, random_state=42)\n",
    "\n",
    "# Further split the training data into training and holdout sets for blending\n",
    "X_train_base, X_holdout, y_train_base, y_holdout = train_test_split(X_train, y_train, test_size=0.2, random_state=42)\n",
    "\n",
    "# Define base models\n",
    "base_models = [\n",
    "    ('rf', RandomForestClassifier(n_estimators=100, random_state=42)),\n",
    "    ('gb', GradientBoostingClassifier(n_estimators=100, random_state=42)),\n",
    "    ('svc', SVC(probability=True, random_state=42))\n",
    "]\n",
    "\n",
    "# Train base models and predict on holdout set\n",
    "holdout_predictions = np.zeros((X_holdout.shape[0], len(base_models)))\n",
    "for i, (name, model) in enumerate(base_models):\n",
    "    model.fit(X_train_base, y_train_base)\n",
    "    holdout_predictions[:, i] = model.predict_proba(X_holdout)[:, 1]\n",
    "\n",
    "# Train the meta-model using the holdout predictions\n",
    "meta_model = LogisticRegression()\n",
    "meta_model.fit(holdout_predictions, y_holdout)\n",
    "\n",
    "# Predict on the test set using base models and meta-model\n",
    "test_predictions = np.zeros((X_test.shape[0], len(base_models)))\n",
    "for i, (name, model) in enumerate(base_models):\n",
    "    test_predictions[:, i] = model.predict_proba(X_test)[:, 1]\n",
    "\n",
    "# Meta-model final prediction\n",
    "final_predictions = meta_model.predict(test_predictions)\n",
    "\n",
    "# Evaluate the model\n",
    "accuracy = accuracy_score(y_test, final_predictions)\n",
    "print(f\"Model accuracy: {accuracy:.4f}\")\n"
   ]
  },
  {
   "cell_type": "code",
   "execution_count": null,
   "id": "df3c2276",
   "metadata": {},
   "outputs": [],
   "source": []
  }
 ],
 "metadata": {
  "kernelspec": {
   "display_name": "Python 3 (ipykernel)",
   "language": "python",
   "name": "python3"
  },
  "language_info": {
   "codemirror_mode": {
    "name": "ipython",
    "version": 3
   },
   "file_extension": ".py",
   "mimetype": "text/x-python",
   "name": "python",
   "nbconvert_exporter": "python",
   "pygments_lexer": "ipython3",
   "version": "3.9.13"
  }
 },
 "nbformat": 4,
 "nbformat_minor": 5
}
